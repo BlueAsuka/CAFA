{
 "cells": [
  {
   "cell_type": "code",
   "execution_count": 1,
   "metadata": {},
   "outputs": [
    {
     "name": "stderr",
     "output_type": "stream",
     "text": [
      "c:\\Users\\HAOXUAN\\miniconda3\\envs\\or\\Lib\\site-packages\\tqdm\\auto.py:21: TqdmWarning: IProgress not found. Please update jupyter and ipywidgets. See https://ipywidgets.readthedocs.io/en/stable/user_install.html\n",
      "  from .autonotebook import tqdm as notebook_tqdm\n"
     ]
    }
   ],
   "source": [
    "import os\n",
    "import re\n",
    "import json\n",
    "import random\n",
    "import sys\n",
    "import asyncio\n",
    "import pickle\n",
    "import datetime\n",
    "sys.path.append('../')\n",
    "\n",
    "from openai import OpenAI, AsyncClient\n",
    "from json import JSONDecodeError\n",
    "from tqdm.auto import tqdm\n",
    "from utils import *\n",
    "from pydantic import BaseModel\n",
    "from colorama import Fore, Style"
   ]
  },
  {
   "cell_type": "code",
   "execution_count": 2,
   "metadata": {},
   "outputs": [],
   "source": [
    "cfg = json.load(open('../configs./configs.json', 'r'))\n",
    "client = OpenAI(api_key=os.environ[\"OPENAI_API_KEY\"])\n",
    "asyncclient = AsyncClient(api_key=os.environ[\"OPENAI_API_KEY\"])\n",
    "\n",
    "dt = datetime.datetime.today().strftime('%Y-%m-%d-%H-%M-%S')"
   ]
  },
  {
   "cell_type": "code",
   "execution_count": 3,
   "metadata": {},
   "outputs": [
    {
     "name": "stderr",
     "output_type": "stream",
     "text": [
      "\u001b[32m2024-09-16 18:15:15.250\u001b[0m | \u001b[34m\u001b[1mDEBUG   \u001b[0m | \u001b[36mutils\u001b[0m:\u001b[36mread_txt_file\u001b[0m:\u001b[36m14\u001b[0m - \u001b[34m\u001b[1mReading file: ../data\\NL4OPT\\nl4opt.txt\u001b[0m\n",
      "\u001b[32m2024-09-16 18:15:15.251\u001b[0m | \u001b[34m\u001b[1mDEBUG   \u001b[0m | \u001b[36mutils\u001b[0m:\u001b[36mread_txt_file\u001b[0m:\u001b[36m16\u001b[0m - \u001b[34m\u001b[1mFile read successfully: ../data\\NL4OPT\\nl4opt.txt\u001b[0m\n",
      "\u001b[32m2024-09-16 18:15:15.252\u001b[0m | \u001b[1mINFO    \u001b[0m | \u001b[36mutils\u001b[0m:\u001b[36mget_nl4opt_qas\u001b[0m:\u001b[36m35\u001b[0m - \u001b[1mNumber of questions: 245\u001b[0m\n",
      "\u001b[32m2024-09-16 18:15:15.252\u001b[0m | \u001b[1mINFO    \u001b[0m | \u001b[36mutils\u001b[0m:\u001b[36mget_nl4opt_qas\u001b[0m:\u001b[36m36\u001b[0m - \u001b[1mNumber of answers: 245\u001b[0m\n",
      "\u001b[32m2024-09-16 18:15:15.253\u001b[0m | \u001b[1mINFO    \u001b[0m | \u001b[36mutils\u001b[0m:\u001b[36mget_demo_and_test_samples\u001b[0m:\u001b[36m47\u001b[0m - \u001b[1mNumber of demo samples: 20\u001b[0m\n",
      "\u001b[32m2024-09-16 18:15:15.253\u001b[0m | \u001b[1mINFO    \u001b[0m | \u001b[36mutils\u001b[0m:\u001b[36mget_demo_and_test_samples\u001b[0m:\u001b[36m48\u001b[0m - \u001b[1mNumber of test samples: 225\u001b[0m\n"
     ]
    }
   ],
   "source": [
    "DATA_DIR = '../data'\n",
    "DATASET_NAME = 'NL4OPT' \n",
    "OUTPUT_DIR = '../output'  \n",
    "\n",
    "nl4opt_data = read_txt_file(os.path.join(DATA_DIR, DATASET_NAME, 'nl4opt.txt'))\n",
    "questions, answers = get_nl4opt_qas(nl4opt_data)\n",
    "assert len(questions) == len(answers)\n",
    "\n",
    "qa_pairs = list(zip(questions, answers))\n",
    "demo_samples, test_samples = get_demo_and_test_samples(qa_pairs)\n",
    "\n",
    "questions = [q for q, _ in demo_samples]\n",
    "answers = [a for _, a in demo_samples]"
   ]
  },
  {
   "cell_type": "markdown",
   "metadata": {},
   "source": [
    "### GPT-4o-mini + 2-shots CoT + Structured Output (on 20 samples, error < 1%) = 85%\n",
    "\n",
    "### GPT-4o-mini + 2-shots CoT + Structured Output (on 20 samples, error < 1.5%) = 90%"
   ]
  },
  {
   "cell_type": "code",
   "execution_count": 6,
   "metadata": {},
   "outputs": [],
   "source": [
    "# class VarRecStep(BaseModel):\n",
    "#     reasoning: str\n",
    "\n",
    "class VarRecg(BaseModel):\n",
    "    # steps: list[VarRecStep]\n",
    "    var_recg: str\n",
    "    \n",
    "# class ConObjStep(BaseModel):\n",
    "#     reasoning: str\n",
    "\n",
    "class ConObj(BaseModel):\n",
    "    # steps: List[ConObjStep]\n",
    "    evidence: List[str]\n",
    "    math_expression: List[str]\n",
    "\n",
    "# class CodeStep(BaseModel):\n",
    "#     reasoning: str\n",
    "\n",
    "class Code(BaseModel):\n",
    "    # steps: List[CodeStep]\n",
    "    reasoning: List[str]\n",
    "    code: str     \n",
    "\n",
    "class MultiStepInOnePrompt(BaseModel):\n",
    "    var_recg: VarRecg\n",
    "    con_obj: ConObj\n",
    "    code: Code"
   ]
  },
  {
   "cell_type": "code",
   "execution_count": 7,
   "metadata": {},
   "outputs": [
    {
     "name": "stdout",
     "output_type": "stream",
     "text": [
      "You are an expert in optimization problems and domain specific language generation. Your task is to convert the textual optimization text into a piece of code.\n",
      "Here are some examples that you should refer to:\n",
      "\n",
      "QUESTION:\n",
      "A car manufacturer makes two types of car oils: Oil Max and Oil Max Pro. A container of Oil Max contains 46 grams of substance A, 43 grams of substance B and 56 grams of substance C. A container of Oil Max Pro contains 13 grams of substance A, 4 grams of substance B and 45 grams of substance C. The car manufacturer has 1345 grams of substance A, 346 grams of substance B, 1643 grams of substance C. In addition, the profit per container of Oil Max is $10 and the profit per container of Oil Max Pro is $15. How many containers of each of oil should the car manufacturer make to maximize profit?\n",
      "CODE:\n",
      "x1 = solver.IntVar(0, solver.infinity(), 'x1')\n",
      "x2 = solver.IntVar(0, solver.infinity(), 'x2')\n",
      "solver.Add(46 * x1 + 13 * x2 <= 1345)\n",
      "solver.Add(43 * x1 + 4 * x2 <= 346)\n",
      "solver.Add(56 * x1 + 45 * x2 <= 1643)\n",
      "objective = solver.Objective()\n",
      "objective.SetCoefficient(x1, 10.0)\n",
      "objective.SetCoefficient(x2, 15.0)\n",
      "objective.SetMaximization()\n",
      "\n",
      "QUESTION:\n",
      "Ben is growing apples and pears on his orchard. He has 50 acres available on which he must grow a minimum of 5 acres of apples and a minimum of 10 acres of pears to meet demands. The profit per apple is $2 and the profit per pear is $4. He prefers to grow more pears than apples but limitations in his workforce allow him to grow at most twice the amount of pears as apples. How many of each fruit should Ben grow in order to maximize his profit? What is that profit?\n",
      "CODE:\n",
      "x1 = solver.IntVar(5, solver.infinity(), 'x1')\n",
      "x2 = solver.IntVar(10, solver.infinity(), 'x2')\n",
      "solver.Add(x1 + x2 <= 50)\n",
      "solver.Add(x1 >= 5)\n",
      "solver.Add(x2 >= 10)\n",
      "solver.Add(x2 <= 2 * x1)\n",
      "objective = solver.Objective()\n",
      "objective.SetCoefficient(x1, 2.0)   \n",
      "objective.SetCoefficient(x2, 4.0)\n",
      "objective.SetMaximization()\n",
      "\n",
      "Please finish the task think step by step.\n"
     ]
    }
   ],
   "source": [
    "sys_prompt = \"\"\"You are an expert in optimization problems and domain specific language generation. Your task is to convert the textual optimization text into a piece of code.\n",
    "Here are some examples that you should refer to:\\n\"\"\"\n",
    "\n",
    "example = \"\"\"\n",
    "QUESTION:\n",
    "A car manufacturer makes two types of car oils: Oil Max and Oil Max Pro. A container of Oil Max contains 46 grams of substance A, 43 grams of substance B and 56 grams of substance C. A container of Oil Max Pro contains 13 grams of substance A, 4 grams of substance B and 45 grams of substance C. The car manufacturer has 1345 grams of substance A, 346 grams of substance B, 1643 grams of substance C. In addition, the profit per container of Oil Max is $10 and the profit per container of Oil Max Pro is $15. How many containers of each of oil should the car manufacturer make to maximize profit?\n",
    "CODE:\n",
    "x1 = solver.IntVar(0, solver.infinity(), 'x1')\n",
    "x2 = solver.IntVar(0, solver.infinity(), 'x2')\n",
    "solver.Add(46 * x1 + 13 * x2 <= 1345)\n",
    "solver.Add(43 * x1 + 4 * x2 <= 346)\n",
    "solver.Add(56 * x1 + 45 * x2 <= 1643)\n",
    "objective = solver.Objective()\n",
    "objective.SetCoefficient(x1, 10.0)\n",
    "objective.SetCoefficient(x2, 15.0)\n",
    "objective.SetMaximization()\n",
    "\n",
    "QUESTION:\n",
    "Ben is growing apples and pears on his orchard. He has 50 acres available on which he must grow a minimum of 5 acres of apples and a minimum of 10 acres of pears to meet demands. The profit per apple is $2 and the profit per pear is $4. He prefers to grow more pears than apples but limitations in his workforce allow him to grow at most twice the amount of pears as apples. How many of each fruit should Ben grow in order to maximize his profit? What is that profit?\n",
    "CODE:\n",
    "x1 = solver.IntVar(5, solver.infinity(), 'x1')\n",
    "x2 = solver.IntVar(10, solver.infinity(), 'x2')\n",
    "solver.Add(x1 + x2 <= 50)\n",
    "solver.Add(x1 >= 5)\n",
    "solver.Add(x2 >= 10)\n",
    "solver.Add(x2 <= 2 * x1)\n",
    "objective = solver.Objective()\n",
    "objective.SetCoefficient(x1, 2.0)   \n",
    "objective.SetCoefficient(x2, 4.0)\n",
    "objective.SetMaximization()\n",
    "\"\"\"\n",
    "\n",
    "sys_prompt = sys_prompt + example + \"\\nPlease finish the task think step by step.\"\n",
    "print(sys_prompt)"
   ]
  },
  {
   "cell_type": "code",
   "execution_count": 8,
   "metadata": {},
   "outputs": [],
   "source": [
    "response = client.beta.chat.completions.parse(\n",
    "    model=\"gpt-4o-mini\",\n",
    "    messages=[\n",
    "        {\"role\": \"system\", \"content\": sys_prompt},\n",
    "        {\"role\": \"user\", \"content\": \"QUESTION: \" + questions[0]}\n",
    "    ],\n",
    "    temperature=0,\n",
    "    response_format=Code,\n",
    ")"
   ]
  },
  {
   "cell_type": "code",
   "execution_count": 11,
   "metadata": {},
   "outputs": [
    {
     "name": "stdout",
     "output_type": "stream",
     "text": [
      "reasoning=['Define variables for the number of containers of each type of oil (Oil Max and Oil Max Pro).', 'Set up constraints based on the available amounts of substances A, B, and C.', 'Define the objective function to maximize profit based on the profit per container of each type of oil.'] code=\"x1 = solver.IntVar(0, solver.infinity(), 'x1')\\nx2 = solver.IntVar(0, solver.infinity(), 'x2')\\nsolver.Add(46 * x1 + 13 * x2 <= 1345)\\nsolver.Add(43 * x1 + 4 * x2 <= 346)\\nsolver.Add(56 * x1 + 45 * x2 <= 1643)\\nobjective = solver.Objective()\\nobjective.SetCoefficient(x1, 10.0)\\nobjective.SetCoefficient(x2, 15.0)\\nobjective.SetMaximization()\"\n",
      "\u001b[33mCode: x1 = solver.IntVar(0, solver.infinity(), 'x1')\n",
      "x2 = solver.IntVar(0, solver.infinity(), 'x2')\n",
      "solver.Add(46 * x1 + 13 * x2 <= 1345)\n",
      "solver.Add(43 * x1 + 4 * x2 <= 346)\n",
      "solver.Add(56 * x1 + 45 * x2 <= 1643)\n",
      "objective = solver.Objective()\n",
      "objective.SetCoefficient(x1, 10.0)\n",
      "objective.SetCoefficient(x2, 15.0)\n",
      "objective.SetMaximization()\u001b[0m\n"
     ]
    }
   ],
   "source": [
    "result = response.choices[0].message.parsed\n",
    "print(result)\n",
    "# print(Fore.RED + f\"Result: {questions[0]}\")\n",
    "# print(Fore.GREEN + f\"VarRecg: {result.var_recg.var_recg}\")\n",
    "# print(Fore.CYAN + f\"ConObj: {result.con_obj.math_expression}\")\n",
    "print(Fore.YELLOW + f\"Code: {result.code}\" + Style.RESET_ALL)"
   ]
  },
  {
   "cell_type": "code",
   "execution_count": 12,
   "metadata": {},
   "outputs": [
    {
     "name": "stderr",
     "output_type": "stream",
     "text": [
      "100%|██████████| 3/3 [00:12<00:00,  4.29s/it]\n"
     ]
    }
   ],
   "source": [
    "batch_size = 8\n",
    "lp_reasoning_list = []\n",
    "for idx in tqdm(range(0, len(questions), batch_size)):\n",
    "    batch = questions[idx:idx+batch_size]\n",
    "    \n",
    "    tasks = [asyncclient.beta.chat.completions.parse(\n",
    "        model=\"gpt-4o-mini\",\n",
    "        temperature=0,\n",
    "        response_format=Code,\n",
    "        messages=[\n",
    "            {\"role\": \"system\", \"content\": sys_prompt},\n",
    "            {\"role\": \"user\", \"content\": f\"QUESTION: {q}\"}\n",
    "        ]) for q in batch\n",
    "    ]\n",
    "\n",
    "    combined_responses = await asyncio.gather(*tasks)\n",
    "    lp_reasoning_list.extend([r.choices[0].message.parsed for r in combined_responses])"
   ]
  },
  {
   "cell_type": "code",
   "execution_count": 13,
   "metadata": {},
   "outputs": [],
   "source": [
    "filename = 'multi_step_in_one_prompt_result_one_shot-' + dt + '.pkl'\n",
    "with open(os.path.join(OUTPUT_DIR, filename), 'wb') as f:\n",
    "    pickle.dump(lp_reasoning_list, f)"
   ]
  },
  {
   "cell_type": "code",
   "execution_count": 14,
   "metadata": {},
   "outputs": [],
   "source": [
    "codes = [lp_reasoning_list[i].code for i in range(len(lp_reasoning_list))]"
   ]
  },
  {
   "cell_type": "code",
   "execution_count": 15,
   "metadata": {},
   "outputs": [],
   "source": [
    "prefix = \"\"\"\n",
    "from ortools.linear_solver import pywraplp\n",
    "solver = pywraplp.Solver.CreateSolver('GLOP') \n",
    "if not solver: raise\n",
    "\"\"\"\n",
    "                \n",
    "suffix = \"\"\"\n",
    "status = solver.Solve()\n",
    "\"\"\"\n",
    "\n",
    "def complement_code(code: str) -> float:\n",
    "    return prefix + code + suffix"
   ]
  },
  {
   "cell_type": "code",
   "execution_count": 16,
   "metadata": {},
   "outputs": [],
   "source": [
    "def clean_code(code: str) -> str:\n",
    "    cleand_code = []\n",
    "    for line in code.split('\\n'):\n",
    "        line = line.strip()\n",
    "        if line.startswith('solver.Add') and not re.findall(r'<=|>=', line):\n",
    "            line = re.sub(r'<', r'<=', line)\n",
    "            line = re.sub(r'>', r'>=', line)\n",
    "        cleand_code.append(line)\n",
    "    return '\\n'.join(cleand_code)"
   ]
  },
  {
   "cell_type": "code",
   "execution_count": 17,
   "metadata": {},
   "outputs": [],
   "source": [
    "def execute_code(code: str) -> float:\n",
    "    ex_locals = {}\n",
    "    exec(code, None, ex_locals)\n",
    "    solver = ex_locals[\"solver\"]\n",
    "    \n",
    "    if ex_locals['status'] == ex_locals['pywraplp'].Solver.OPTIMAL:\n",
    "        return solver.Objective().Value()\n",
    "    else:\n",
    "        return np.inf"
   ]
  },
  {
   "cell_type": "code",
   "execution_count": 18,
   "metadata": {},
   "outputs": [
    {
     "name": "stderr",
     "output_type": "stream",
     "text": [
      "\u001b[32m2024-09-16 18:18:52.885\u001b[0m | \u001b[1mINFO    \u001b[0m | \u001b[36m__main__\u001b[0m:\u001b[36m<module>\u001b[0m:\u001b[36m7\u001b[0m - \u001b[1mquestion 0 obtain answer\u001b[0m\n",
      "\u001b[32m2024-09-16 18:18:52.886\u001b[0m | \u001b[1mINFO    \u001b[0m | \u001b[36m__main__\u001b[0m:\u001b[36m<module>\u001b[0m:\u001b[36m7\u001b[0m - \u001b[1mquestion 1 obtain answer\u001b[0m\n",
      "\u001b[32m2024-09-16 18:18:52.887\u001b[0m | \u001b[1mINFO    \u001b[0m | \u001b[36m__main__\u001b[0m:\u001b[36m<module>\u001b[0m:\u001b[36m7\u001b[0m - \u001b[1mquestion 2 obtain answer\u001b[0m\n",
      "\u001b[32m2024-09-16 18:18:52.888\u001b[0m | \u001b[1mINFO    \u001b[0m | \u001b[36m__main__\u001b[0m:\u001b[36m<module>\u001b[0m:\u001b[36m7\u001b[0m - \u001b[1mquestion 3 obtain answer\u001b[0m\n",
      "\u001b[32m2024-09-16 18:18:52.888\u001b[0m | \u001b[1mINFO    \u001b[0m | \u001b[36m__main__\u001b[0m:\u001b[36m<module>\u001b[0m:\u001b[36m7\u001b[0m - \u001b[1mquestion 4 obtain answer\u001b[0m\n",
      "\u001b[32m2024-09-16 18:18:52.889\u001b[0m | \u001b[1mINFO    \u001b[0m | \u001b[36m__main__\u001b[0m:\u001b[36m<module>\u001b[0m:\u001b[36m7\u001b[0m - \u001b[1mquestion 5 obtain answer\u001b[0m\n",
      "\u001b[32m2024-09-16 18:18:52.890\u001b[0m | \u001b[1mINFO    \u001b[0m | \u001b[36m__main__\u001b[0m:\u001b[36m<module>\u001b[0m:\u001b[36m7\u001b[0m - \u001b[1mquestion 6 obtain answer\u001b[0m\n",
      "\u001b[32m2024-09-16 18:18:52.890\u001b[0m | \u001b[1mINFO    \u001b[0m | \u001b[36m__main__\u001b[0m:\u001b[36m<module>\u001b[0m:\u001b[36m7\u001b[0m - \u001b[1mquestion 7 obtain answer\u001b[0m\n",
      "\u001b[32m2024-09-16 18:18:52.891\u001b[0m | \u001b[1mINFO    \u001b[0m | \u001b[36m__main__\u001b[0m:\u001b[36m<module>\u001b[0m:\u001b[36m7\u001b[0m - \u001b[1mquestion 8 obtain answer\u001b[0m\n",
      "\u001b[32m2024-09-16 18:18:52.891\u001b[0m | \u001b[1mINFO    \u001b[0m | \u001b[36m__main__\u001b[0m:\u001b[36m<module>\u001b[0m:\u001b[36m7\u001b[0m - \u001b[1mquestion 9 obtain answer\u001b[0m\n",
      "\u001b[32m2024-09-16 18:18:52.892\u001b[0m | \u001b[1mINFO    \u001b[0m | \u001b[36m__main__\u001b[0m:\u001b[36m<module>\u001b[0m:\u001b[36m7\u001b[0m - \u001b[1mquestion 10 obtain answer\u001b[0m\n",
      "\u001b[32m2024-09-16 18:18:52.893\u001b[0m | \u001b[1mINFO    \u001b[0m | \u001b[36m__main__\u001b[0m:\u001b[36m<module>\u001b[0m:\u001b[36m7\u001b[0m - \u001b[1mquestion 11 obtain answer\u001b[0m\n",
      "\u001b[32m2024-09-16 18:18:52.893\u001b[0m | \u001b[1mINFO    \u001b[0m | \u001b[36m__main__\u001b[0m:\u001b[36m<module>\u001b[0m:\u001b[36m7\u001b[0m - \u001b[1mquestion 12 obtain answer\u001b[0m\n",
      "\u001b[32m2024-09-16 18:18:52.894\u001b[0m | \u001b[1mINFO    \u001b[0m | \u001b[36m__main__\u001b[0m:\u001b[36m<module>\u001b[0m:\u001b[36m7\u001b[0m - \u001b[1mquestion 13 obtain answer\u001b[0m\n",
      "\u001b[32m2024-09-16 18:18:52.894\u001b[0m | \u001b[1mINFO    \u001b[0m | \u001b[36m__main__\u001b[0m:\u001b[36m<module>\u001b[0m:\u001b[36m7\u001b[0m - \u001b[1mquestion 14 obtain answer\u001b[0m\n",
      "\u001b[32m2024-09-16 18:18:52.895\u001b[0m | \u001b[1mINFO    \u001b[0m | \u001b[36m__main__\u001b[0m:\u001b[36m<module>\u001b[0m:\u001b[36m7\u001b[0m - \u001b[1mquestion 15 obtain answer\u001b[0m\n",
      "\u001b[32m2024-09-16 18:18:52.896\u001b[0m | \u001b[1mINFO    \u001b[0m | \u001b[36m__main__\u001b[0m:\u001b[36m<module>\u001b[0m:\u001b[36m7\u001b[0m - \u001b[1mquestion 16 obtain answer\u001b[0m\n",
      "\u001b[32m2024-09-16 18:18:52.896\u001b[0m | \u001b[1mINFO    \u001b[0m | \u001b[36m__main__\u001b[0m:\u001b[36m<module>\u001b[0m:\u001b[36m7\u001b[0m - \u001b[1mquestion 17 obtain answer\u001b[0m\n",
      "\u001b[32m2024-09-16 18:18:52.897\u001b[0m | \u001b[1mINFO    \u001b[0m | \u001b[36m__main__\u001b[0m:\u001b[36m<module>\u001b[0m:\u001b[36m7\u001b[0m - \u001b[1mquestion 18 obtain answer\u001b[0m\n",
      "\u001b[32m2024-09-16 18:18:52.898\u001b[0m | \u001b[1mINFO    \u001b[0m | \u001b[36m__main__\u001b[0m:\u001b[36m<module>\u001b[0m:\u001b[36m7\u001b[0m - \u001b[1mquestion 19 obtain answer\u001b[0m\n"
     ]
    }
   ],
   "source": [
    "pred_answers = []\n",
    "for i, code_str in enumerate(codes):\n",
    "    try:\n",
    "        cleaned_code = clean_code(code_str)\n",
    "        code = complement_code(cleaned_code)\n",
    "        ans = execute_code(code)\n",
    "        loguru.logger.info(f\"question {i} obtain answer\")\n",
    "        pred_answers.append(ans)\n",
    "    except Exception as e:\n",
    "        loguru.logger.error(f\"Error for question {i}: {e}\")\n",
    "        pred_answers.append(\"Error\")"
   ]
  },
  {
   "cell_type": "code",
   "execution_count": 25,
   "metadata": {},
   "outputs": [
    {
     "name": "stdout",
     "output_type": "stream",
     "text": [
      "[547.6667, 166.6667, 950.0, 37083.3333, 342857.1429, 7000.0, 100.0, 12000.0, 480.0, 142.8571, 466.6667, inf, 66.6667, inf, 1500.0, 511.4286, 1072.0, 11250.0, 19.2308, 47.7778]\n"
     ]
    }
   ],
   "source": [
    "print([round(pa, 4) for pa in pred_answers])"
   ]
  },
  {
   "cell_type": "code",
   "execution_count": 26,
   "metadata": {},
   "outputs": [
    {
     "name": "stdout",
     "output_type": "stream",
     "text": [
      "['540.0', '166.66666666666669', '950.0', '36900.0', '342750.0', '7000.0', '100.0', '11980.0', '480.0', '142.0', '465.0', inf, '67.0', inf, '1500.0', '511.42857142857133', '1060.0', '2500.0', '20.0', '-99999']\n"
     ]
    }
   ],
   "source": [
    "print(answers)"
   ]
  },
  {
   "cell_type": "code",
   "execution_count": 29,
   "metadata": {},
   "outputs": [],
   "source": [
    "correct = []\n",
    "for p, r in zip(pred_answers, answers):\n",
    "    if p == 'Error':\n",
    "        continue\n",
    "    if (float(p) == np.inf and float(r) == np.inf) or (abs(float(p) - float(r)) / float(r) < 1.5e-2):\n",
    "        correct.append(True)\n",
    "    else:\n",
    "        correct.append(False)"
   ]
  },
  {
   "cell_type": "code",
   "execution_count": 30,
   "metadata": {},
   "outputs": [
    {
     "data": {
      "text/plain": [
       "90.0"
      ]
     },
     "execution_count": 30,
     "metadata": {},
     "output_type": "execute_result"
    }
   ],
   "source": [
    "(sum(correct) / len(answers)) * 100"
   ]
  },
  {
   "cell_type": "code",
   "execution_count": null,
   "metadata": {},
   "outputs": [],
   "source": []
  }
 ],
 "metadata": {
  "kernelspec": {
   "display_name": "or",
   "language": "python",
   "name": "python3"
  },
  "language_info": {
   "codemirror_mode": {
    "name": "ipython",
    "version": 3
   },
   "file_extension": ".py",
   "mimetype": "text/x-python",
   "name": "python",
   "nbconvert_exporter": "python",
   "pygments_lexer": "ipython3",
   "version": "3.11.9"
  }
 },
 "nbformat": 4,
 "nbformat_minor": 2
}
