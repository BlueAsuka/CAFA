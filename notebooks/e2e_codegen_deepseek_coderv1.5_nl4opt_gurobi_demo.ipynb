{
 "cells": [
  {
   "cell_type": "code",
   "execution_count": 1,
   "metadata": {},
   "outputs": [
    {
     "name": "stderr",
     "output_type": "stream",
     "text": [
      "c:\\Users\\HAOXUAN\\miniconda3\\envs\\or\\Lib\\site-packages\\tqdm\\auto.py:21: TqdmWarning: IProgress not found. Please update jupyter and ipywidgets. See https://ipywidgets.readthedocs.io/en/stable/user_install.html\n",
      "  from .autonotebook import tqdm as notebook_tqdm\n",
      "c:\\Users\\HAOXUAN\\miniconda3\\envs\\or\\Lib\\site-packages\\pydantic\\_internal\\_fields.py:161: UserWarning: Field \"model_name\" has conflict with protected namespace \"model_\".\n",
      "\n",
      "You may be able to resolve this warning by setting `model_config['protected_namespaces'] = ()`.\n",
      "  warnings.warn(\n"
     ]
    }
   ],
   "source": [
    "import os\n",
    "import re\n",
    "import json\n",
    "import random\n",
    "import sys\n",
    "import pickle\n",
    "import datetime\n",
    "import asyncio\n",
    "import nest_asyncio\n",
    "\n",
    "import gurobipy as gp\n",
    "\n",
    "from json import JSONDecodeError\n",
    "from tqdm.auto import tqdm\n",
    "from colorama import Fore, Style\n",
    "from pydantic import BaseModel\n",
    "from typing import List\n",
    "from llama_index.llms.lmstudio import LMStudio\n",
    "from llama_index.program.guidance import GuidancePydanticProgram\n",
    "\n",
    "sys.path.append('../')\n",
    "from utils import *\n",
    "\n",
    "nest_asyncio.apply()"
   ]
  },
  {
   "cell_type": "code",
   "execution_count": 2,
   "metadata": {},
   "outputs": [
    {
     "name": "stderr",
     "output_type": "stream",
     "text": [
      "\u001b[32m2024-09-18 16:16:54.340\u001b[0m | \u001b[34m\u001b[1mDEBUG   \u001b[0m | \u001b[36mutils\u001b[0m:\u001b[36mread_txt_file\u001b[0m:\u001b[36m15\u001b[0m - \u001b[34m\u001b[1mReading file: ../data\\NL4OPT\\nl4opt.txt\u001b[0m\n",
      "\u001b[32m2024-09-18 16:16:54.341\u001b[0m | \u001b[34m\u001b[1mDEBUG   \u001b[0m | \u001b[36mutils\u001b[0m:\u001b[36mread_txt_file\u001b[0m:\u001b[36m17\u001b[0m - \u001b[34m\u001b[1mFile read successfully: ../data\\NL4OPT\\nl4opt.txt\u001b[0m\n",
      "\u001b[32m2024-09-18 16:16:54.342\u001b[0m | \u001b[1mINFO    \u001b[0m | \u001b[36mutils\u001b[0m:\u001b[36mget_nl4opt_qas\u001b[0m:\u001b[36m36\u001b[0m - \u001b[1mNumber of questions: 245\u001b[0m\n",
      "\u001b[32m2024-09-18 16:16:54.343\u001b[0m | \u001b[1mINFO    \u001b[0m | \u001b[36mutils\u001b[0m:\u001b[36mget_nl4opt_qas\u001b[0m:\u001b[36m37\u001b[0m - \u001b[1mNumber of answers: 245\u001b[0m\n",
      "\u001b[32m2024-09-18 16:16:54.343\u001b[0m | \u001b[1mINFO    \u001b[0m | \u001b[36mutils\u001b[0m:\u001b[36mget_demo_and_test_samples\u001b[0m:\u001b[36m48\u001b[0m - \u001b[1mNumber of demo samples: 20\u001b[0m\n",
      "\u001b[32m2024-09-18 16:16:54.343\u001b[0m | \u001b[1mINFO    \u001b[0m | \u001b[36mutils\u001b[0m:\u001b[36mget_demo_and_test_samples\u001b[0m:\u001b[36m49\u001b[0m - \u001b[1mNumber of test samples: 225\u001b[0m\n"
     ]
    }
   ],
   "source": [
    "DATA_DIR = '../data'\n",
    "DATASET_NAME = 'NL4OPT' \n",
    "OUTPUT_DIR = '../output'  \n",
    "\n",
    "dt = datetime.datetime.today().strftime('%Y-%m-%d-%H-%M-%S')\n",
    "\n",
    "nl4opt_data = read_txt_file(os.path.join(DATA_DIR, DATASET_NAME, 'nl4opt.txt'))\n",
    "questions, answers = get_nl4opt_qas(nl4opt_data)\n",
    "assert len(questions) == len(answers)\n",
    "\n",
    "qa_pairs = list(zip(questions, answers))\n",
    "demo_samples, test_samples = get_demo_and_test_samples(qa_pairs)\n",
    "\n",
    "questions = [q for q, _ in demo_samples]\n",
    "answers = [a for _, a in demo_samples]"
   ]
  },
  {
   "cell_type": "code",
   "execution_count": 4,
   "metadata": {},
   "outputs": [],
   "source": [
    "class Code(BaseModel):\n",
    "    reasoning: List[str]\n",
    "    code: str "
   ]
  },
  {
   "cell_type": "code",
   "execution_count": 31,
   "metadata": {},
   "outputs": [
    {
     "name": "stdout",
     "output_type": "stream",
     "text": [
      "You are an expert in optimization problems and domain specific language generation. \n",
      "Your task is to convert the textual optimization text into a piece of code.\n",
      "DO NOT ADD ANY COMMENTS OR EXPLANATION TO THE CODE. JUST OUTPUT THE CODE.\n",
      "Here are some examples that you should refer to:\n",
      "\n",
      "QUESTION:\n",
      "A car manufacturer makes two types of car oils: Oil Max and Oil Max Pro. A container of Oil Max contains 46 grams of substance A, 43 grams of substance B and 56 grams of substance C. A container of Oil Max Pro contains 13 grams of substance A, 4 grams of substance B and 45 grams of substance C. The car manufacturer has 1345 grams of substance A, 346 grams of substance B, 1643 grams of substance C. In addition, the profit per container of Oil Max is $10 and the profit per container of Oil Max Pro is $15. How many containers of each of oil should the car manufacturer make to maximize profit?\n",
      "CODE:\n",
      "x = m.addVar(name=\"Oil Max\", vtype=gp.GRB.INTEGER)\n",
      "y = m.addVar(name=\"Oil Max Pro\", vtype=gp.GRB.INTEGER)\n",
      "m.setObjective(10 * x + 15 * y, gp.GRB.MAXIMIZE)\n",
      "m.addConstr(46 * x + 13 * y <= 1345)\n",
      "m.addConstr(43 * x + 4 * y <= 346)\n",
      "m.addConstr(56 * x + 45 * y <= 1643)\n",
      "\n",
      "QUESTION:\n",
      "Ben is growing apples and pears on his orchard. He has 50 acres available on which he must grow a minimum of 5 acres of apples and a minimum of 10 acres of pears to meet demands. The profit per apple is $2 and the profit per pear is $4. He prefers to grow more pears than apples but limitations in his workforce allow him to grow at most twice the amount of pears as apples. How many of each fruit should Ben grow in order to maximize his profit? What is that profit?\n",
      "CODE:\n",
      "x = m.addVar(name=\"apples\", vtype=gp.GRB.INTEGER)\n",
      "y = m.addVar(name=\"pears\", vtype=gp.GRB.INTEGER)\n",
      "m.setObjective(2 * x + 4 * y, gp.GRB.MAXIMIZE)\n",
      "m.addConstr(x + y <= 50)\n",
      "m.addConstr(x >= 5)\n",
      "m.addConstr(y >= 10)\n",
      "m.addConstr(y <= 2 * x)\n",
      "\n",
      "Follow the above instructions and output the code step by step.\n",
      "\n"
     ]
    }
   ],
   "source": [
    "prompt_template_str = \"\"\"You are an expert in optimization problems and domain specific language generation. \n",
    "Your task is to convert the textual optimization text into a piece of code.\n",
    "DO NOT ADD ANY COMMENTS OR EXPLANATION TO THE CODE. JUST OUTPUT THE CODE.\n",
    "Here are some examples that you should refer to:\\n\"\"\"\n",
    "\n",
    "example = \"\"\"\n",
    "QUESTION:\n",
    "A car manufacturer makes two types of car oils: Oil Max and Oil Max Pro. A container of Oil Max contains 46 grams of substance A, 43 grams of substance B and 56 grams of substance C. A container of Oil Max Pro contains 13 grams of substance A, 4 grams of substance B and 45 grams of substance C. The car manufacturer has 1345 grams of substance A, 346 grams of substance B, 1643 grams of substance C. In addition, the profit per container of Oil Max is $10 and the profit per container of Oil Max Pro is $15. How many containers of each of oil should the car manufacturer make to maximize profit?\n",
    "CODE:\n",
    "x = m.addVar(name=\"Oil Max\", vtype=gp.GRB.INTEGER)\n",
    "y = m.addVar(name=\"Oil Max Pro\", vtype=gp.GRB.INTEGER)\n",
    "m.setObjective(10 * x + 15 * y, gp.GRB.MAXIMIZE)\n",
    "m.addConstr(46 * x + 13 * y <= 1345)\n",
    "m.addConstr(43 * x + 4 * y <= 346)\n",
    "m.addConstr(56 * x + 45 * y <= 1643)\n",
    "\n",
    "QUESTION:\n",
    "Ben is growing apples and pears on his orchard. He has 50 acres available on which he must grow a minimum of 5 acres of apples and a minimum of 10 acres of pears to meet demands. The profit per apple is $2 and the profit per pear is $4. He prefers to grow more pears than apples but limitations in his workforce allow him to grow at most twice the amount of pears as apples. How many of each fruit should Ben grow in order to maximize his profit? What is that profit?\n",
    "CODE:\n",
    "x = m.addVar(name=\"apples\", vtype=gp.GRB.INTEGER)\n",
    "y = m.addVar(name=\"pears\", vtype=gp.GRB.INTEGER)\n",
    "m.setObjective(2 * x + 4 * y, gp.GRB.MAXIMIZE)\n",
    "m.addConstr(x + y <= 50)\n",
    "m.addConstr(x >= 5)\n",
    "m.addConstr(y >= 10)\n",
    "m.addConstr(y <= 2 * x)\n",
    "\n",
    "Follow the above instructions and output the code step by step.\n",
    "\"\"\"\n",
    "\n",
    "prompt_template_str = prompt_template_str + example\n",
    "print(prompt_template_str)"
   ]
  },
  {
   "cell_type": "code",
   "execution_count": 35,
   "metadata": {},
   "outputs": [],
   "source": [
    "llm = LMStudio(\n",
    "    model_name=\"TheBloke/deepseek-coder-6.7B-instruct-GGUF\",\n",
    "    base_url=\"http://localhost:1234/v1\",\n",
    "    temperature=0.0,\n",
    ")"
   ]
  },
  {
   "cell_type": "code",
   "execution_count": 41,
   "metadata": {},
   "outputs": [],
   "source": [
    "program = GuidancePydanticProgram.from_defaults(\n",
    "    output_cls=Code,\n",
    "    prompt_template_str=prompt_template_str,\n",
    "    verbose=True,\n",
    ")"
   ]
  },
  {
   "cell_type": "code",
   "execution_count": 42,
   "metadata": {},
   "outputs": [
    {
     "ename": "TypeError",
     "evalue": "unsupported operand type(s) for +: 'NoneType' and 'str'",
     "output_type": "error",
     "traceback": [
      "\u001b[1;31m---------------------------------------------------------------------------\u001b[0m",
      "\u001b[1;31mTypeError\u001b[0m                                 Traceback (most recent call last)",
      "Cell \u001b[1;32mIn[42], line 1\u001b[0m\n\u001b[1;32m----> 1\u001b[0m code \u001b[38;5;241m=\u001b[39m \u001b[43mprogram\u001b[49m\u001b[43m(\u001b[49m\u001b[43mtools_str\u001b[49m\u001b[38;5;241;43m=\u001b[39;49m\u001b[38;5;124;43m\"\u001b[39;49m\u001b[38;5;124;43m\"\u001b[39;49m\u001b[43m,\u001b[49m\u001b[43m \u001b[49m\u001b[43mquery_str\u001b[49m\u001b[38;5;241;43m=\u001b[39;49m\u001b[38;5;124;43mf\u001b[39;49m\u001b[38;5;124;43m\"\u001b[39;49m\u001b[38;5;130;43;01m\\n\u001b[39;49;00m\u001b[38;5;124;43mQUESTION: \u001b[39;49m\u001b[38;5;132;43;01m{\u001b[39;49;00m\u001b[43mquestions\u001b[49m\u001b[43m[\u001b[49m\u001b[38;5;241;43m0\u001b[39;49m\u001b[43m]\u001b[49m\u001b[38;5;132;43;01m}\u001b[39;49;00m\u001b[38;5;124;43m\"\u001b[39;49m\u001b[43m)\u001b[49m\n",
      "File \u001b[1;32mc:\\Users\\HAOXUAN\\miniconda3\\envs\\or\\Lib\\site-packages\\llama_index\\core\\instrumentation\\dispatcher.py:265\u001b[0m, in \u001b[0;36mDispatcher.span.<locals>.wrapper\u001b[1;34m(func, instance, args, kwargs)\u001b[0m\n\u001b[0;32m    257\u001b[0m \u001b[38;5;28mself\u001b[39m\u001b[38;5;241m.\u001b[39mspan_enter(\n\u001b[0;32m    258\u001b[0m     id_\u001b[38;5;241m=\u001b[39mid_,\n\u001b[0;32m    259\u001b[0m     bound_args\u001b[38;5;241m=\u001b[39mbound_args,\n\u001b[1;32m   (...)\u001b[0m\n\u001b[0;32m    262\u001b[0m     tags\u001b[38;5;241m=\u001b[39mtags,\n\u001b[0;32m    263\u001b[0m )\n\u001b[0;32m    264\u001b[0m \u001b[38;5;28;01mtry\u001b[39;00m:\n\u001b[1;32m--> 265\u001b[0m     result \u001b[38;5;241m=\u001b[39m \u001b[43mfunc\u001b[49m\u001b[43m(\u001b[49m\u001b[38;5;241;43m*\u001b[39;49m\u001b[43margs\u001b[49m\u001b[43m,\u001b[49m\u001b[43m \u001b[49m\u001b[38;5;241;43m*\u001b[39;49m\u001b[38;5;241;43m*\u001b[39;49m\u001b[43mkwargs\u001b[49m\u001b[43m)\u001b[49m\n\u001b[0;32m    266\u001b[0m \u001b[38;5;28;01mexcept\u001b[39;00m \u001b[38;5;167;01mBaseException\u001b[39;00m \u001b[38;5;28;01mas\u001b[39;00m e:\n\u001b[0;32m    267\u001b[0m     \u001b[38;5;28mself\u001b[39m\u001b[38;5;241m.\u001b[39mevent(SpanDropEvent(span_id\u001b[38;5;241m=\u001b[39mid_, err_str\u001b[38;5;241m=\u001b[39m\u001b[38;5;28mstr\u001b[39m(e)))\n",
      "File \u001b[1;32mc:\\Users\\HAOXUAN\\miniconda3\\envs\\or\\Lib\\site-packages\\llama_index\\program\\guidance\\base.py:94\u001b[0m, in \u001b[0;36mGuidancePydanticProgram.__call__\u001b[1;34m(self, *args, **kwargs)\u001b[0m\n\u001b[0;32m     89\u001b[0m \u001b[38;5;28;01mdef\u001b[39;00m \u001b[38;5;21m__call__\u001b[39m(\n\u001b[0;32m     90\u001b[0m     \u001b[38;5;28mself\u001b[39m,\n\u001b[0;32m     91\u001b[0m     \u001b[38;5;241m*\u001b[39margs: Any,\n\u001b[0;32m     92\u001b[0m     \u001b[38;5;241m*\u001b[39m\u001b[38;5;241m*\u001b[39mkwargs: Any,\n\u001b[0;32m     93\u001b[0m ) \u001b[38;5;241m-\u001b[39m\u001b[38;5;241m>\u001b[39m BaseModel:\n\u001b[1;32m---> 94\u001b[0m     executed_program \u001b[38;5;241m=\u001b[39m \u001b[38;5;28;43mself\u001b[39;49m\u001b[38;5;241;43m.\u001b[39;49m\u001b[43m_guidance_program\u001b[49m\u001b[43m(\u001b[49m\u001b[38;5;241;43m*\u001b[39;49m\u001b[38;5;241;43m*\u001b[39;49m\u001b[43mkwargs\u001b[49m\u001b[43m)\u001b[49m\n\u001b[0;32m     95\u001b[0m     response \u001b[38;5;241m=\u001b[39m \u001b[38;5;28mstr\u001b[39m(executed_program)\n\u001b[0;32m     97\u001b[0m     \u001b[38;5;28;01mreturn\u001b[39;00m parse_pydantic_from_guidance_program(\n\u001b[0;32m     98\u001b[0m         response\u001b[38;5;241m=\u001b[39mresponse, \u001b[38;5;28mcls\u001b[39m\u001b[38;5;241m=\u001b[39m\u001b[38;5;28mself\u001b[39m\u001b[38;5;241m.\u001b[39m_output_cls\n\u001b[0;32m     99\u001b[0m     )\n",
      "File \u001b[1;32mc:\\Users\\HAOXUAN\\miniconda3\\envs\\or\\Lib\\site-packages\\llama_index\\program\\guidance\\base.py:54\u001b[0m, in \u001b[0;36mGuidancePydanticProgram.program\u001b[1;34m(self, llm, silent, tools_str, query_str, **kwargs)\u001b[0m\n\u001b[0;32m     50\u001b[0m given_query \u001b[38;5;241m=\u001b[39m \u001b[38;5;28mself\u001b[39m\u001b[38;5;241m.\u001b[39m_full_str\u001b[38;5;241m.\u001b[39mreplace(\u001b[38;5;124m\"\u001b[39m\u001b[38;5;124m{{\u001b[39m\u001b[38;5;124mtools_str}}\u001b[39m\u001b[38;5;124m\"\u001b[39m, tools_str)\u001b[38;5;241m.\u001b[39mreplace(\n\u001b[0;32m     51\u001b[0m     \u001b[38;5;124m\"\u001b[39m\u001b[38;5;124m{{\u001b[39m\u001b[38;5;124mquery_str}}\u001b[39m\u001b[38;5;124m\"\u001b[39m, query_str\n\u001b[0;32m     52\u001b[0m )\n\u001b[0;32m     53\u001b[0m \u001b[38;5;28;01mwith\u001b[39;00m user():\n\u001b[1;32m---> 54\u001b[0m     llm \u001b[38;5;241m=\u001b[39m \u001b[43mllm\u001b[49m\u001b[43m \u001b[49m\u001b[38;5;241;43m+\u001b[39;49m\u001b[43m \u001b[49m\u001b[43mgiven_query\u001b[49m\n\u001b[0;32m     56\u001b[0m \u001b[38;5;28;01mwith\u001b[39;00m assistant():\n\u001b[0;32m     57\u001b[0m     llm \u001b[38;5;241m=\u001b[39m llm \u001b[38;5;241m+\u001b[39m gen(stop\u001b[38;5;241m=\u001b[39m\u001b[38;5;124m\"\u001b[39m\u001b[38;5;124m.\u001b[39m\u001b[38;5;124m\"\u001b[39m)\n",
      "\u001b[1;31mTypeError\u001b[0m: unsupported operand type(s) for +: 'NoneType' and 'str'"
     ]
    }
   ],
   "source": [
    "code = program(tools_str=\"\", query_str=f\"\\nQUESTION: {questions[0]}\")"
   ]
  },
  {
   "cell_type": "code",
   "execution_count": 18,
   "metadata": {},
   "outputs": [],
   "source": [
    "# batch_size = 8\n",
    "# codes = []\n",
    "# for i in tqdm(range(0, len(questions), batch_size)):\n",
    "#     batch = questions[i:i+batch_size]\n",
    "    \n",
    "#     tasks = [program(q=q) for q in batch]\n",
    "    \n",
    "#     combined_responses = await asyncio.gather(*tasks)\n",
    "#     codes.extend([r.code for r in combined_responses])"
   ]
  },
  {
   "cell_type": "code",
   "execution_count": 20,
   "metadata": {},
   "outputs": [
    {
     "name": "stderr",
     "output_type": "stream",
     "text": [
      "20it [05:21, 16.05s/it]\n"
     ]
    }
   ],
   "source": [
    "codes = []\n",
    "for i, q in tqdm(enumerate(questions)):\n",
    "    codes.append(program(q=q))"
   ]
  },
  {
   "cell_type": "code",
   "execution_count": 21,
   "metadata": {},
   "outputs": [],
   "source": [
    "filename = 'e2e_codegen_localllm_nl4opt_gurobi_' + dt + '.pkl'\n",
    "with open(os.path.join(OUTPUT_DIR, filename), 'wb') as f:\n",
    "    pickle.dump(codes, f)"
   ]
  },
  {
   "cell_type": "code",
   "execution_count": 22,
   "metadata": {},
   "outputs": [],
   "source": [
    "code_strs = [codes[i].code for i in range(len(codes))]"
   ]
  },
  {
   "cell_type": "code",
   "execution_count": null,
   "metadata": {},
   "outputs": [],
   "source": [
    "prefix = \"\"\"\n",
    "import gurobipy as gp\n",
    "env = gp.Env(empty=True)\n",
    "env.setParam(\"OutputFlag\",0)\n",
    "env.start()\n",
    "m = gp.Model(env=env)\n",
    "\"\"\"\n",
    "                \n",
    "suffix = \"\"\"\n",
    "m.optimize()\n",
    "\"\"\"\n",
    "\n",
    "def complement_code(code: str) -> float:\n",
    "    return prefix + code + suffix"
   ]
  },
  {
   "cell_type": "code",
   "execution_count": 40,
   "metadata": {},
   "outputs": [],
   "source": [
    "def clean_code(code: str) -> str:\n",
    "    cleand_code = []\n",
    "    for line in code.split('\\n'):\n",
    "        line = line.strip()\n",
    "        if line.startswith('m.addConstr') and not re.findall(r'<=|>=', line):\n",
    "            line = re.sub(r'<', r'<=', line)\n",
    "            line = re.sub(r'>', r'>=', line)\n",
    "        cleand_code.append(line)\n",
    "    cleand_code = '\\n'.join(cleand_code)\n",
    "    cleand_code = cleand_code.replace(')m', ')\\nm')\n",
    "    return cleand_code"
   ]
  },
  {
   "cell_type": "code",
   "execution_count": 41,
   "metadata": {},
   "outputs": [],
   "source": [
    "def execute_code(code: str) -> float:\n",
    "    ex_locals = {}\n",
    "    exec(code, None, ex_locals)\n",
    "    \n",
    "    try:\n",
    "        return ex_locals[\"m\"].objVal\n",
    "    except Exception as e:\n",
    "        # print(e)\n",
    "        return np.inf"
   ]
  },
  {
   "cell_type": "code",
   "execution_count": 42,
   "metadata": {},
   "outputs": [
    {
     "name": "stderr",
     "output_type": "stream",
     "text": [
      "\u001b[32m2024-09-17 21:46:22.188\u001b[0m | \u001b[1mINFO    \u001b[0m | \u001b[36m__main__\u001b[0m:\u001b[36m<module>\u001b[0m:\u001b[36m7\u001b[0m - \u001b[1mquestion 0 obtain answer\u001b[0m\n",
      "\u001b[32m2024-09-17 21:46:22.189\u001b[0m | \u001b[1mINFO    \u001b[0m | \u001b[36m__main__\u001b[0m:\u001b[36m<module>\u001b[0m:\u001b[36m7\u001b[0m - \u001b[1mquestion 1 obtain answer\u001b[0m\n",
      "\u001b[32m2024-09-17 21:46:22.191\u001b[0m | \u001b[1mINFO    \u001b[0m | \u001b[36m__main__\u001b[0m:\u001b[36m<module>\u001b[0m:\u001b[36m7\u001b[0m - \u001b[1mquestion 2 obtain answer\u001b[0m\n",
      "\u001b[32m2024-09-17 21:46:22.193\u001b[0m | \u001b[1mINFO    \u001b[0m | \u001b[36m__main__\u001b[0m:\u001b[36m<module>\u001b[0m:\u001b[36m7\u001b[0m - \u001b[1mquestion 3 obtain answer\u001b[0m\n",
      "\u001b[32m2024-09-17 21:46:22.195\u001b[0m | \u001b[1mINFO    \u001b[0m | \u001b[36m__main__\u001b[0m:\u001b[36m<module>\u001b[0m:\u001b[36m7\u001b[0m - \u001b[1mquestion 4 obtain answer\u001b[0m\n",
      "\u001b[32m2024-09-17 21:46:22.196\u001b[0m | \u001b[1mINFO    \u001b[0m | \u001b[36m__main__\u001b[0m:\u001b[36m<module>\u001b[0m:\u001b[36m7\u001b[0m - \u001b[1mquestion 5 obtain answer\u001b[0m\n"
     ]
    },
    {
     "name": "stdout",
     "output_type": "stream",
     "text": [
      "Gurobi Optimizer version 11.0.3 build v11.0.3rc0 (win64 - Windows 10.0 (19045.2))\n",
      "\n",
      "CPU model: AMD Ryzen 7 5700X 8-Core Processor, instruction set [SSE2|AVX|AVX2]\n",
      "Thread count: 8 physical cores, 16 logical processors, using up to 16 threads\n",
      "\n",
      "Optimize a model with 3 rows, 2 columns and 5 nonzeros\n",
      "Model fingerprint: 0x0bcfab34\n",
      "Variable types: 0 continuous, 2 integer (0 binary)\n",
      "Coefficient statistics:\n",
      "  Matrix range     [1e+00, 2e+01]\n",
      "  Objective range  [2e+00, 5e+00]\n",
      "  Bounds range     [0e+00, 0e+00]\n",
      "  RHS range        [2e+00, 4e+02]\n",
      "Presolve removed 1 rows and 0 columns\n",
      "Presolve time: 0.00s\n",
      "Presolved: 2 rows, 2 columns, 4 nonzeros\n",
      "Variable types: 0 continuous, 2 integer (0 binary)\n",
      "Found heuristic solution: objective 101.0000000\n",
      "Found heuristic solution: objective 100.0000000\n",
      "\n",
      "Explored 0 nodes (0 simplex iterations) in 0.00 seconds (0.00 work units)\n",
      "Thread count was 16 (of 16 available processors)\n",
      "\n",
      "Solution count 2: 100 101 \n",
      "\n",
      "Optimal solution found (tolerance 1.00e-04)\n",
      "Best objective 1.000000000000e+02, best bound 1.000000000000e+02, gap 0.0000%\n"
     ]
    },
    {
     "name": "stderr",
     "output_type": "stream",
     "text": [
      "\u001b[32m2024-09-17 21:46:22.206\u001b[0m | \u001b[1mINFO    \u001b[0m | \u001b[36m__main__\u001b[0m:\u001b[36m<module>\u001b[0m:\u001b[36m7\u001b[0m - \u001b[1mquestion 6 obtain answer\u001b[0m\n",
      "\u001b[32m2024-09-17 21:46:22.208\u001b[0m | \u001b[1mINFO    \u001b[0m | \u001b[36m__main__\u001b[0m:\u001b[36m<module>\u001b[0m:\u001b[36m7\u001b[0m - \u001b[1mquestion 7 obtain answer\u001b[0m\n",
      "\u001b[32m2024-09-17 21:46:22.210\u001b[0m | \u001b[1mINFO    \u001b[0m | \u001b[36m__main__\u001b[0m:\u001b[36m<module>\u001b[0m:\u001b[36m7\u001b[0m - \u001b[1mquestion 8 obtain answer\u001b[0m\n",
      "\u001b[32m2024-09-17 21:46:22.213\u001b[0m | \u001b[1mINFO    \u001b[0m | \u001b[36m__main__\u001b[0m:\u001b[36m<module>\u001b[0m:\u001b[36m7\u001b[0m - \u001b[1mquestion 9 obtain answer\u001b[0m\n",
      "\u001b[32m2024-09-17 21:46:22.215\u001b[0m | \u001b[1mINFO    \u001b[0m | \u001b[36m__main__\u001b[0m:\u001b[36m<module>\u001b[0m:\u001b[36m7\u001b[0m - \u001b[1mquestion 10 obtain answer\u001b[0m\n",
      "\u001b[32m2024-09-17 21:46:22.217\u001b[0m | \u001b[1mINFO    \u001b[0m | \u001b[36m__main__\u001b[0m:\u001b[36m<module>\u001b[0m:\u001b[36m7\u001b[0m - \u001b[1mquestion 11 obtain answer\u001b[0m\n",
      "\u001b[32m2024-09-17 21:46:22.219\u001b[0m | \u001b[1mINFO    \u001b[0m | \u001b[36m__main__\u001b[0m:\u001b[36m<module>\u001b[0m:\u001b[36m7\u001b[0m - \u001b[1mquestion 12 obtain answer\u001b[0m\n",
      "\u001b[32m2024-09-17 21:46:22.220\u001b[0m | \u001b[1mINFO    \u001b[0m | \u001b[36m__main__\u001b[0m:\u001b[36m<module>\u001b[0m:\u001b[36m7\u001b[0m - \u001b[1mquestion 13 obtain answer\u001b[0m\n",
      "\u001b[32m2024-09-17 21:46:22.222\u001b[0m | \u001b[1mINFO    \u001b[0m | \u001b[36m__main__\u001b[0m:\u001b[36m<module>\u001b[0m:\u001b[36m7\u001b[0m - \u001b[1mquestion 14 obtain answer\u001b[0m\n",
      "\u001b[32m2024-09-17 21:46:22.225\u001b[0m | \u001b[1mINFO    \u001b[0m | \u001b[36m__main__\u001b[0m:\u001b[36m<module>\u001b[0m:\u001b[36m7\u001b[0m - \u001b[1mquestion 15 obtain answer\u001b[0m\n",
      "\u001b[32m2024-09-17 21:46:22.228\u001b[0m | \u001b[1mINFO    \u001b[0m | \u001b[36m__main__\u001b[0m:\u001b[36m<module>\u001b[0m:\u001b[36m7\u001b[0m - \u001b[1mquestion 16 obtain answer\u001b[0m\n"
     ]
    },
    {
     "name": "stdout",
     "output_type": "stream",
     "text": [
      "Gurobi Optimizer version 11.0.3 build v11.0.3rc0 (win64 - Windows 10.0 (19045.2))\n",
      "\n",
      "CPU model: AMD Ryzen 7 5700X 8-Core Processor, instruction set [SSE2|AVX|AVX2]\n",
      "Thread count: 8 physical cores, 16 logical processors, using up to 16 threads\n",
      "\n",
      "Optimize a model with 3 rows, 2 columns and 6 nonzeros\n",
      "Model fingerprint: 0xd6f98ba5\n",
      "Variable types: 0 continuous, 2 integer (0 binary)\n",
      "Coefficient statistics:\n",
      "  Matrix range     [4e+00, 6e+01]\n",
      "  Objective range  [1e+01, 2e+01]\n",
      "  Bounds range     [0e+00, 0e+00]\n",
      "  RHS range        [3e+02, 2e+03]\n",
      "Found heuristic solution: objective 80.0000000\n",
      "Presolve removed 3 rows and 2 columns\n",
      "Presolve time: 0.00s\n",
      "Presolve: All rows and columns removed\n",
      "\n",
      "Explored 0 nodes (0 simplex iterations) in 0.00 seconds (0.00 work units)\n",
      "Thread count was 1 (of 16 available processors)\n",
      "\n",
      "Solution count 2: 540 80 \n",
      "\n",
      "Optimal solution found (tolerance 1.00e-04)\n",
      "Best objective 5.400000000000e+02, best bound 5.400000000000e+02, gap 0.0000%\n"
     ]
    },
    {
     "name": "stderr",
     "output_type": "stream",
     "text": [
      "\u001b[32m2024-09-17 21:46:22.237\u001b[0m | \u001b[1mINFO    \u001b[0m | \u001b[36m__main__\u001b[0m:\u001b[36m<module>\u001b[0m:\u001b[36m7\u001b[0m - \u001b[1mquestion 17 obtain answer\u001b[0m\n",
      "\u001b[32m2024-09-17 21:46:22.241\u001b[0m | \u001b[1mINFO    \u001b[0m | \u001b[36m__main__\u001b[0m:\u001b[36m<module>\u001b[0m:\u001b[36m7\u001b[0m - \u001b[1mquestion 18 obtain answer\u001b[0m\n",
      "\u001b[32m2024-09-17 21:46:22.243\u001b[0m | \u001b[1mINFO    \u001b[0m | \u001b[36m__main__\u001b[0m:\u001b[36m<module>\u001b[0m:\u001b[36m7\u001b[0m - \u001b[1mquestion 19 obtain answer\u001b[0m\n"
     ]
    }
   ],
   "source": [
    "pred_answers = []\n",
    "for i, code_str in enumerate(code_strs):\n",
    "    try:\n",
    "        cleaned_code = clean_code(code_str)\n",
    "        code = complement_code(cleaned_code)\n",
    "        ans = execute_code(code)\n",
    "        loguru.logger.info(f\"question {i} obtain answer\")\n",
    "        pred_answers.append(ans)\n",
    "    except Exception as e:\n",
    "        loguru.logger.error(f\"Error for question {i}: {e}\")\n",
    "        pred_answers.append(\"Error\")"
   ]
  },
  {
   "cell_type": "code",
   "execution_count": 52,
   "metadata": {},
   "outputs": [
    {
     "data": {
      "text/plain": [
       "'A suspicious factory has 100 sq. feet of space. It makes bootleg phones and laptops. Phones require 2 hours of labor and cost $12 for each sq. foot of space allocated for phone production (cost of electricity and equipment). Laptops require 3 hours of labor and cost $15 for each sq. foot of space allocated for laptop production. Phones produce a net revenue of $50 per sq. foot while laptops produce a net revenue of $70 per sq. foot. The factory wants to spend at most $5000 and 2000 hours of labor. What is the optimal factory layout to maximize revenue?'"
      ]
     },
     "execution_count": 52,
     "metadata": {},
     "output_type": "execute_result"
    }
   ],
   "source": [
    "questions[5]"
   ]
  },
  {
   "cell_type": "code",
   "execution_count": 51,
   "metadata": {},
   "outputs": [
    {
     "name": "stdout",
     "output_type": "stream",
     "text": [
      "\n",
      "import gurobipy as gp\n",
      "env = gp.Env(empty=True)\n",
      "env.setParam(\"OutputFlag\",0)\n",
      "env.start()\n",
      "m = gp.Model(env=env)\n",
      "x = m.addVar(name=\"phones\", vtype=gp.GRB.INTEGER)\n",
      "y = m.addVar(name=\"laptops\", vtype=gp.GRB.INTEGER)\n",
      "m.setObjective(50 * x + 70 * y, gp.GRB.MAXIMIZE)\n",
      "m.addConstr(2 * x + 3 * y <= 100) # space constraint\n",
      "m.addConstr(2 * x * 12 + 3 * y * 15 <= 5000) # cost constraint\n",
      "m.addConstr(2 * x + 3 * y <= 2000) # labor hours constraint\n",
      "m.optimize()\n",
      "\n"
     ]
    }
   ],
   "source": [
    "print(complement_code(clean_code(code_strs[5])))"
   ]
  },
  {
   "cell_type": "code",
   "execution_count": 43,
   "metadata": {},
   "outputs": [
    {
     "name": "stdout",
     "output_type": "stream",
     "text": [
      "[540.0, 166.0, 950.0, 36900.0, 342750.0, 2500.0, 100.0, 11980.0, 480.0, 142.0, 465.0, inf, 67.0, inf, 1500.0, 509.0, 1060.0, 540.0, 20.0, 50.0]\n"
     ]
    }
   ],
   "source": [
    "print(pred_answers)"
   ]
  },
  {
   "cell_type": "code",
   "execution_count": 44,
   "metadata": {},
   "outputs": [
    {
     "name": "stdout",
     "output_type": "stream",
     "text": [
      "['540.0', '166.66666666666669', '950.0', '36900.0', '342750.0', '7000.0', '100.0', '11980.0', '480.0', '142.0', '465.0', inf, '67.0', inf, '1500.0', '511.42857142857133', '1060.0', '2500.0', '20.0', '-99999']\n"
     ]
    }
   ],
   "source": [
    "print(answers)"
   ]
  },
  {
   "cell_type": "code",
   "execution_count": 54,
   "metadata": {},
   "outputs": [
    {
     "name": "stdout",
     "output_type": "stream",
     "text": [
      "Accuracy under error 0.01: 90.0\n",
      "Accuracy under error 0.0001: 80.0\n"
     ]
    }
   ],
   "source": [
    "print(f\"Accuracy under error {1e-2}: {sum(mark(pred_answers, answers, 1e-2)) / len(answers) * 100}\")\n",
    "print(f\"Accuracy under error {1e-4}: {sum(mark(pred_answers, answers, 1e-4)) / len(answers) * 100}\")"
   ]
  },
  {
   "cell_type": "code",
   "execution_count": null,
   "metadata": {},
   "outputs": [],
   "source": []
  }
 ],
 "metadata": {
  "kernelspec": {
   "display_name": "or",
   "language": "python",
   "name": "python3"
  },
  "language_info": {
   "codemirror_mode": {
    "name": "ipython",
    "version": 3
   },
   "file_extension": ".py",
   "mimetype": "text/x-python",
   "name": "python",
   "nbconvert_exporter": "python",
   "pygments_lexer": "ipython3",
   "version": "3.11.9"
  }
 },
 "nbformat": 4,
 "nbformat_minor": 2
}
